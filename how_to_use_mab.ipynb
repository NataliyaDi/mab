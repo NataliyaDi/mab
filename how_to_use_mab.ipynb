{
 "cells": [
  {
   "cell_type": "code",
   "execution_count": 1,
   "metadata": {},
   "outputs": [],
   "source": [
    "from mab_todel import MAB\n",
    "import numpy as np\n",
    "from defaults import N_ARMS\n",
    "# N_ARMS = 3"
   ]
  },
  {
   "cell_type": "code",
   "execution_count": 14,
   "metadata": {},
   "outputs": [
    {
     "data": {
      "text/plain": [
       "{'1': None, '2': None, '3': None}"
      ]
     },
     "execution_count": 14,
     "metadata": {},
     "output_type": "execute_result"
    }
   ],
   "source": [
    "# init state body\n",
    "state = dict.fromkeys([str(x) for x in np.arange(1, N_ARMS + 1)])\n",
    "state"
   ]
  },
  {
   "cell_type": "code",
   "execution_count": 15,
   "metadata": {},
   "outputs": [
    {
     "data": {
      "text/plain": [
       "{'1': {'description': '',\n",
       "  'current_alpha': 1,\n",
       "  'current_beta': 1,\n",
       "  'success': [0],\n",
       "  'trials': [0],\n",
       "  'probability': [],\n",
       "  'is_active': 1,\n",
       "  'params_weight': None,\n",
       "  'is_filled': False},\n",
       " '2': {'description': '',\n",
       "  'current_alpha': 1,\n",
       "  'current_beta': 1,\n",
       "  'success': [0],\n",
       "  'trials': [0],\n",
       "  'probability': [],\n",
       "  'is_active': 1,\n",
       "  'params_weight': None,\n",
       "  'is_filled': False},\n",
       " '3': {'description': '',\n",
       "  'current_alpha': 1,\n",
       "  'current_beta': 1,\n",
       "  'success': [0],\n",
       "  'trials': [0],\n",
       "  'probability': [],\n",
       "  'is_active': 1,\n",
       "  'params_weight': None,\n",
       "  'is_filled': False}}"
      ]
     },
     "execution_count": 15,
     "metadata": {},
     "output_type": "execute_result"
    }
   ],
   "source": [
    "# fill the state with defaults\n",
    "for i in state:\n",
    "    state[i] = {'description': '', \n",
    "                 'current_alpha': 1,\n",
    "                 'current_beta': 1,\n",
    "                 'success': [0],\n",
    "                 'trials': [0],\n",
    "                 'probability': [],\n",
    "                 'is_active': 1,\n",
    "                 'params_weight': None,\n",
    "                 'is_filled': False\n",
    "                 }\n",
    "state"
   ]
  },
  {
   "cell_type": "code",
   "execution_count": 16,
   "metadata": {},
   "outputs": [],
   "source": [
    "# init bandit\n",
    "m = MAB(state=state)"
   ]
  },
  {
   "cell_type": "code",
   "execution_count": 17,
   "metadata": {},
   "outputs": [
    {
     "data": {
      "text/plain": [
       "{'1': {'description': 'str1',\n",
       "  'current_alpha': 1,\n",
       "  'current_beta': 1,\n",
       "  'success': [0],\n",
       "  'trials': [0],\n",
       "  'probability': [],\n",
       "  'is_active': 1,\n",
       "  'params_weight': None,\n",
       "  'is_filled': True},\n",
       " '2': {'description': 'str2',\n",
       "  'current_alpha': 1,\n",
       "  'current_beta': 1,\n",
       "  'success': [0],\n",
       "  'trials': [0],\n",
       "  'probability': [],\n",
       "  'is_active': 1,\n",
       "  'params_weight': None,\n",
       "  'is_filled': True},\n",
       " '3': {'description': 'ml optimization',\n",
       "  'current_alpha': 1,\n",
       "  'current_beta': 1,\n",
       "  'success': [0],\n",
       "  'trials': [0],\n",
       "  'probability': [],\n",
       "  'is_active': 1,\n",
       "  'params_weight': None,\n",
       "  'is_filled': True}}"
      ]
     },
     "execution_count": 17,
     "metadata": {},
     "output_type": "execute_result"
    }
   ],
   "source": [
    "# add description per arm\n",
    "_ = m.strategy_weights_description(arms=['1', '2', '3'],\n",
    "                                    weights_dicts=[None, None, None],\n",
    "                                    descs=['str1', 'str2', 'ml optimization'])\n",
    "m.arms_dict_params"
   ]
  },
  {
   "cell_type": "code",
   "execution_count": 18,
   "metadata": {},
   "outputs": [
    {
     "data": {
      "text/plain": [
       "3"
      ]
     },
     "execution_count": 18,
     "metadata": {},
     "output_type": "execute_result"
    }
   ],
   "source": [
    "# get the number of turned on arms (is_active=1)\n",
    "m.number_active_strategies"
   ]
  },
  {
   "cell_type": "code",
   "execution_count": 19,
   "metadata": {},
   "outputs": [
    {
     "name": "stdout",
     "output_type": "stream",
     "text": [
      "Current number of active arms is 3\n",
      "Now the number of active arms is 4\n"
     ]
    }
   ],
   "source": [
    "# add new arm\n",
    "_ = m.add_arms(arm_name=None)"
   ]
  },
  {
   "cell_type": "code",
   "execution_count": 20,
   "metadata": {},
   "outputs": [
    {
     "name": "stdout",
     "output_type": "stream",
     "text": [
      "Current number of active arms is 4\n",
      "Now the number of active arms is 3\n"
     ]
    }
   ],
   "source": [
    "# turn off new arm (param is_active=0 for new arm)\n",
    "_ = m.remove_arm('4')"
   ]
  },
  {
   "cell_type": "code",
   "execution_count": 21,
   "metadata": {},
   "outputs": [
    {
     "data": {
      "text/plain": [
       "({'1': {'description': 'str1',\n",
       "   'current_alpha': 1,\n",
       "   'current_beta': 1,\n",
       "   'success': [0],\n",
       "   'trials': [0],\n",
       "   'probability': [0.16111564467040976],\n",
       "   'is_active': 1,\n",
       "   'params_weight': None,\n",
       "   'is_filled': True},\n",
       "  '2': {'description': 'str2',\n",
       "   'current_alpha': 1,\n",
       "   'current_beta': 1,\n",
       "   'success': [0],\n",
       "   'trials': [0],\n",
       "   'probability': [0.9321228476598821],\n",
       "   'is_active': 1,\n",
       "   'params_weight': None,\n",
       "   'is_filled': True},\n",
       "  '3': {'description': 'ml optimization',\n",
       "   'current_alpha': 1,\n",
       "   'current_beta': 1,\n",
       "   'success': [0],\n",
       "   'trials': [0],\n",
       "   'probability': [0.9814650164021689],\n",
       "   'is_active': 1,\n",
       "   'params_weight': None,\n",
       "   'is_filled': True},\n",
       "  '4': {'description': '',\n",
       "   'current_alpha': 1,\n",
       "   'current_beta': 1,\n",
       "   'success': [0],\n",
       "   'trials': [0],\n",
       "   'probability': [],\n",
       "   'is_active': 0,\n",
       "   'params_weight': None,\n",
       "   'is_filled': False}},\n",
       " {'1': 0.16111564467040976, '2': 0.9321228476598821, '3': 0.9814650164021689})"
      ]
     },
     "execution_count": 21,
     "metadata": {},
     "output_type": "execute_result"
    }
   ],
   "source": [
    "# sample probability for each arm from Beta distribution with alpha=beta=1\n",
    "m.arms_probabilities()"
   ]
  },
  {
   "cell_type": "code",
   "execution_count": 22,
   "metadata": {},
   "outputs": [
    {
     "data": {
      "text/plain": [
       "{'1': {'success': 29, 'trials': 121},\n",
       " '2': {'success': 14, 'trials': 111},\n",
       " '3': {'success': 63, 'trials': 194}}"
      ]
     },
     "execution_count": 22,
     "metadata": {},
     "output_type": "execute_result"
    }
   ],
   "source": [
    "# get rewards for arms\n",
    "m.results_from_db(None)"
   ]
  },
  {
   "cell_type": "code",
   "execution_count": 23,
   "metadata": {},
   "outputs": [
    {
     "data": {
      "text/plain": [
       "({'1': {'description': 'str1',\n",
       "   'current_alpha': 59,\n",
       "   'current_beta': 134,\n",
       "   'success': [0, 58],\n",
       "   'trials': [0, 191],\n",
       "   'probability': [0.16111564467040976, 0.2840127350473365],\n",
       "   'is_active': 1,\n",
       "   'params_weight': None,\n",
       "   'is_filled': True},\n",
       "  '2': {'description': 'str2',\n",
       "   'current_alpha': 46,\n",
       "   'current_beta': 95,\n",
       "   'success': [0, 45],\n",
       "   'trials': [0, 139],\n",
       "   'probability': [0.9321228476598821, 0.279950548090563],\n",
       "   'is_active': 1,\n",
       "   'params_weight': None,\n",
       "   'is_filled': True},\n",
       "  '3': {'description': 'ml optimization',\n",
       "   'current_alpha': 47,\n",
       "   'current_beta': 93,\n",
       "   'success': [0, 46],\n",
       "   'trials': [0, 138],\n",
       "   'probability': [0.9814650164021689, 0.33913082090341573],\n",
       "   'is_active': 1,\n",
       "   'params_weight': None,\n",
       "   'is_filled': True},\n",
       "  '4': {'description': '',\n",
       "   'current_alpha': 1,\n",
       "   'current_beta': 1,\n",
       "   'success': [0],\n",
       "   'trials': [0],\n",
       "   'probability': [],\n",
       "   'is_active': 0,\n",
       "   'params_weight': None,\n",
       "   'is_filled': False}},\n",
       " {'1': 0.2840127350473365, '2': 0.279950548090563, '3': 0.33913082090341573})"
      ]
     },
     "execution_count": 23,
     "metadata": {},
     "output_type": "execute_result"
    }
   ],
   "source": [
    "# get reward, append it to the state and sample probabilities from updated distribution (new alpha and beta)\n",
    "m.update_distr_and_return_proba(None)"
   ]
  },
  {
   "cell_type": "code",
   "execution_count": 24,
   "metadata": {},
   "outputs": [
    {
     "name": "stdout",
     "output_type": "stream",
     "text": [
      "Current number of active arms is 3\n",
      "Now the number of active arms is 4\n"
     ]
    }
   ],
   "source": [
    "# turn on arm (set is_active to 1)\n",
    "_ = m.turn_on_arm('4')"
   ]
  },
  {
   "cell_type": "code",
   "execution_count": null,
   "metadata": {},
   "outputs": [],
   "source": []
  }
 ],
 "metadata": {
  "kernelspec": {
   "display_name": "Python 3",
   "language": "python",
   "name": "python3"
  },
  "language_info": {
   "codemirror_mode": {
    "name": "ipython",
    "version": 3
   },
   "file_extension": ".py",
   "mimetype": "text/x-python",
   "name": "python",
   "nbconvert_exporter": "python",
   "pygments_lexer": "ipython3",
   "version": "3.6.9"
  }
 },
 "nbformat": 4,
 "nbformat_minor": 4
}
